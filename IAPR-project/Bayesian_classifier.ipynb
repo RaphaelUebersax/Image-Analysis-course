{
 "cells": [
  {
   "cell_type": "markdown",
   "metadata": {},
   "source": [
    "# Bayesian classifier\n",
    "<a id='start'></a>"
   ]
  },
  {
   "cell_type": "markdown",
   "metadata": {},
   "source": [
    "This note book obtains bayesian classifier for suite image from training set.\n",
    "\n",
    "Firstly, the raw images with ground truth are segmented using the methods in main notebooks to crop suite images out. This step is supervised so that no missegmentation occurs.\n",
    "\n",
    "Secondly, the fourier descriptors of suite countours are extracted. We use fourier descriptors as features because suite images are very simple shapes with few variations. According to different card colors, different fourier coefficient are representative for suites. Spade and club are similar in outer boundaries but different in details. So we take higher order fourier coefficeints. Heart and Diamond are different in outer boundaries as diamond is very sharp. We take lower order fourier coefficeints.\n",
    "\n",
    "Thirdly, we assume a Gaussian destribution of fourier descriptor features and calculate the decision curve between classes. We will be using these decision curves in the main notebook for classifying suite images in test sets."
   ]
  },
  {
   "cell_type": "markdown",
   "metadata": {},
   "source": [
    "## Import dependencies"
   ]
  },
  {
   "cell_type": "code",
   "execution_count": 30,
   "metadata": {},
   "outputs": [],
   "source": [
    "import cv2\n",
    "import matplotlib.pyplot as plt\n",
    "import numpy as np\n",
    "import csv\n",
    "import sympy as sym\n",
    "import math\n",
    "import skimage\n",
    "import skimage.morphology\n",
    "import skimage.io"
   ]
  },
  {
   "cell_type": "markdown",
   "metadata": {},
   "source": [
    "## Segmentation functions"
   ]
  },
  {
   "cell_type": "markdown",
   "metadata": {},
   "source": [
    "The segmentation functions work the same as in main notebook to crop the suite image from raw photos. The performace of segmentation is checked to guarantee we get suite image for our training set."
   ]
  },
  {
   "cell_type": "code",
   "execution_count": 31,
   "metadata": {},
   "outputs": [],
   "source": [
    "def clean_img(im):\n",
    "    gray_im = cv2.cvtColor(im, cv2.COLOR_BGR2GRAY)\n",
    "    #blur the image for thresholding\n",
    "    blur_im = cv2.GaussianBlur(gray_im,(3,3),0)\n",
    "    #adaptive threshold OTSU\n",
    "    ret, thresh_im = cv2.threshold(blur_im,0,255,cv2.THRESH_BINARY+cv2.THRESH_OTSU)\n",
    "    #foreground is darker than background, so an inversion here\n",
    "    thresh_im = 255 - thresh_im\n",
    "    return thresh_im"
   ]
  },
  {
   "cell_type": "code",
   "execution_count": 32,
   "metadata": {},
   "outputs": [],
   "source": [
    "rescale_factor = 0.25\n",
    "disk1 = skimage.morphology.disk((int)(35*rescale_factor))\n",
    "disk2 = skimage.morphology.disk((int)(13*rescale_factor))"
   ]
  },
  {
   "cell_type": "code",
   "execution_count": 33,
   "metadata": {},
   "outputs": [],
   "source": [
    "def find_green_boxes(image,debug=False):\n",
    "    \"\"\"\n",
    "    \n",
    "    \"\"\"\n",
    "    # Preprocessing the image (grayscale + gaussian filter)\n",
    "    #image = skimage.transform.rescale(image, rescale_factor, multichannel = True, anti_aliasing=False) \n",
    "    # hsv_fg = skimage.color.rgb2hsv(image)\n",
    "    #hsv_fg = skimage.img_as_ubyte(hsv_fg)\n",
    "    #green_mask = cv2.inRange(hsv_fg, (45,30,30), (115, 255,255))\n",
    "    #blue_mask = cv2.inRange(hsv_fg, (115,125,125), (150, 255,255))\n",
    "    #turn off gaussian filter \n",
    "    image = cv2.resize(image,None,fx=rescale_factor, fy=rescale_factor, interpolation = cv2.INTER_LINEAR)\n",
    "    hsv_fg = cv2.cvtColor(image, cv2.COLOR_BGR2HSV) \n",
    "    green_mask = cv2.inRange(hsv_fg, (25,35,35), (95, 255,255))\n",
    "    blue_mask = cv2.inRange(hsv_fg, (80,110,110), (150, 255,255))\n",
    "    \n",
    "\n",
    "    \n",
    "    ## slice the green\n",
    "    binary = green_mask>0 \n",
    "    binary_2 = blue_mask>0 \n",
    "    binary = binary | binary_2\n",
    "    \n",
    "    dealer = skimage.morphology.opening(binary, disk1)\n",
    "    dealer = skimage.morphology.closing(dealer, disk1)\n",
    "    cards = binary ^ dealer\n",
    "    cards = skimage.morphology.closing(cards, disk2)\n",
    "    cards = skimage.img_as_ubyte(cards)\n",
    "    \n",
    "    if (debug):\n",
    "        green = np.zeros_like(image)\n",
    "        green[binary] = image[binary]\n",
    "        return cards, dealer, green\n",
    "    else:\n",
    "        return cards, dealer"
   ]
  },
  {
   "cell_type": "code",
   "execution_count": 34,
   "metadata": {},
   "outputs": [],
   "source": [
    "def crop_suite_value_MNIST(card_img):\n",
    "    # Crop the suite\n",
    "    suite_img = card_img[37:197, 20:135]\n",
    "\n",
    "    # Crop the value\n",
    "    value_img = card_img[171:541, 43:413]\n",
    "\n",
    "    # Make it look like MNIST samples\n",
    "    value_img = cv2.cvtColor(value_img, cv2.COLOR_BGR2GRAY)\n",
    "    value_img = 255 - value_img\n",
    "    _, value_img = cv2.threshold(value_img,0,255,cv2.THRESH_BINARY+cv2.THRESH_OTSU)\n",
    "    value_img = cv2.GaussianBlur(value_img,(25,25),0)\n",
    "    value_img = cv2.resize(value_img, (28, 28), interpolation = cv2.INTER_CUBIC)\n",
    "    value_img = cv2.blur(value_img, (2,2), 0)\n",
    "\n",
    "    return suite_img, value_img"
   ]
  },
  {
   "cell_type": "code",
   "execution_count": 35,
   "metadata": {},
   "outputs": [],
   "source": [
    "def segmentation(cards_im, dealer_im, original_im):\n",
    "    \"\"\"\n",
    "    \n",
    "    \"\"\"\n",
    "    #get height and width of image\n",
    "    height, width = original_im.shape[0], original_im.shape[1]\n",
    "\n",
    "    # We use RETR_EXTERNAL mode to find external contour.\n",
    "    contour = cv2.findContours(cards_im,cv2.RETR_EXTERNAL,cv2.CHAIN_APPROX_SIMPLE)[0] \n",
    "    \n",
    "    # Keep the biggest contour only\n",
    "    contour = sorted(contour, key=cv2.contourArea,reverse=True)\n",
    "    contours_list = []\n",
    "    for i in range(4):\n",
    "        contours_list.append(contour[i][:, 0, :])\n",
    "    \n",
    "    contours_card = []\n",
    "    M_card = []\n",
    "    upper_left = []\n",
    "    upper_right = []\n",
    "    crop_imgs = []\n",
    "    angles = []\n",
    "    sizes = []\n",
    "    for contour in contours_list:\n",
    "        # Compute convex hull of contour\n",
    "        hull = cv2.convexHull(contour)[:,0,:]\n",
    "        hull = (1/rescale_factor * hull).astype(int)\n",
    "        \n",
    "        # Make sure contour is continuous\n",
    "        if np.any(hull[0,:]!= hull[-1,:]):\n",
    "            hull = np.vstack((hull,hull[0,:]))\n",
    "            \n",
    "        ##crop the tilted card as rectangle img\n",
    "        # get min rect area enclosing contour\n",
    "        rect = cv2.minAreaRect((1/rescale_factor * contour).astype(int)) \n",
    "        center, size, angle = rect[0], rect[1], rect[2]\n",
    "        angles.append(angle)\n",
    "        sizes.append(size)\n",
    "        center, size = tuple(map(int, center)), tuple(map(int, size))\n",
    "        # return tuple type: (center(x, y), (width, height), angle of rotation) = cv2.minAreaRect(points)\n",
    "        box = cv2.boxPoints(rect)\n",
    "        # keep box points for plotting function\n",
    "        box = np.int0(box)\n",
    "        # calculate the rotation matrix of card\n",
    "        M = cv2.getRotationMatrix2D(center, angle, 1)\n",
    "        # rotate the original image by the calculated matrix\n",
    "        original_im_rot = cv2.warpAffine(original_im, M, (width, height))\n",
    "        # crop the rotated rectangle is vertical to the card in for loop\n",
    "        crop_img = cv2.getRectSubPix(original_im_rot, size, center)\n",
    "\n",
    "        if crop_img.shape[0] < crop_img.shape[1]:\n",
    "            crop_img_rescaled = cv2.resize(crop_img,(712, 466), interpolation = cv2.INTER_CUBIC)\n",
    "        else:\n",
    "            crop_img_rescaled = cv2.resize(crop_img,(466, 712), interpolation = cv2.INTER_CUBIC)\n",
    "        crop_imgs.append(crop_img_rescaled)\n",
    "        \n",
    "        upper_left_corner = np.argmin(np.sum(box,axis=1))\n",
    "        diag_vect_left = np.array([rect[0][0]-box[upper_left_corner,0], rect[0][1]-box[upper_left_corner,1]])\n",
    "        \n",
    "        if upper_left_corner == 3:\n",
    "            upper_right_corner = 0\n",
    "        else:\n",
    "            upper_right_corner = upper_left_corner + 1\n",
    "                \n",
    "        diag_vect_right = np.array([rect[0][0]-box[upper_right_corner,0], rect[0][1]-box[upper_right_corner,1]])\n",
    "        \n",
    "        box = np.vstack((box,box[0,:]))\n",
    "        center = rect[0]\n",
    "        M_card.append(center)\n",
    "        contours_card.append(box)\n",
    "        upper_left.append(diag_vect_left)\n",
    "        upper_right.append(diag_vect_right)\n",
    "\n",
    "            \n",
    "    # If contour is not a rectange (circle in our case)\n",
    "    dealer_im = skimage.img_as_ubyte(dealer_im)\n",
    "    # We use RETR_EXTERNAL mode to find external contour.\n",
    "    contour_deal = cv2.findContours(dealer_im,cv2.RETR_EXTERNAL,cv2.CHAIN_APPROX_SIMPLE)[0] \n",
    "    \n",
    "    # Keep the biggest contour only\n",
    "    contour_deal = contour_deal[0][:,0,:]\n",
    "    hull = cv2.convexHull(contour_deal)[:,0,:]\n",
    "    hull = (1/rescale_factor*hull).astype(int)\n",
    "    contour_dealer = hull\n",
    "    M = cv2.moments(hull)\n",
    "    cX = int(M[\"m10\"] /M[\"m00\"])\n",
    "    cY = int(M[\"m01\"] / M[\"m00\"])\n",
    "    M_dealer = np.array([cX,cY])\n",
    "            \n",
    "    # Assign moments to respective players   \n",
    "    M_card_array = np.array(M_card)\n",
    "    \n",
    "    # sort player number\n",
    "    player_one = np.argmax(M_card_array[:,1]) #max y in upper left corresponds to player 1 card upper left corner\n",
    "    player_two = np.argmax(M_card_array[:,0]) #max x in upper right corresponds to player 2 card upper left corner\n",
    "    player_three = np.argmin(M_card_array[:,1]) #min y in upper left corresponds to player 3 card upper left corner\n",
    "    player_four = np.argmin(M_card_array[:,0]) #min x in upper right corresponds to player 4 card upper left corner\n",
    "\n",
    "    # Segment player 1\n",
    "    M_player_one = M_card_array[player_one,:]\n",
    "    diag_one = upper_left[player_one]\n",
    "\n",
    "    if sizes[player_one][0] < sizes[player_one][1]:\n",
    "        crop_one = crop_imgs[player_one]\n",
    "    elif sizes[player_one][0] >= sizes[player_one][1] and angles[player_one]<0:\n",
    "        crop_one = cv2.rotate(crop_imgs[player_one], cv2.ROTATE_90_COUNTERCLOCKWISE)\n",
    "    else:\n",
    "        crop_one = cv2.rotate(crop_imgs[player_one], cv2.ROTATE_90_CLOCKWISE)\n",
    "\n",
    "    suit_one,crop_value_one = crop_suite_value_MNIST(crop_one)\n",
    "\n",
    "    # Segment player 2\n",
    "    M_player_two = M_card_array[player_two,:]\n",
    "    diag_two = upper_right[player_two]\n",
    "    \n",
    "    if sizes[player_two][0] > sizes[player_two][1]:\n",
    "        crop_two = cv2.rotate(crop_imgs[player_two], cv2.ROTATE_90_CLOCKWISE)\n",
    "    elif sizes[player_two][0] <= sizes[player_two][1] and angles[player_two]<0:\n",
    "        crop_two = crop_imgs[player_two]\n",
    "    else:\n",
    "        crop_two = cv2.rotate(crop_imgs[player_two], cv2.ROTATE_180)\n",
    "\n",
    "    suit_two,crop_value_two = crop_suite_value_MNIST(crop_two)\n",
    "\n",
    "    # Segment player 3\n",
    "    M_player_three = M_card_array[player_three,:]\n",
    "    diag_three = upper_left[player_three]\n",
    "\n",
    "    if sizes[player_three][0] < sizes[player_three][1]:\n",
    "        crop_three = cv2.rotate(crop_imgs[player_three], cv2.ROTATE_180)\n",
    "    elif sizes[player_three][0] >= sizes[player_three][1] and angles[player_three]<0:\n",
    "        crop_three = cv2.rotate(crop_imgs[player_three], cv2.ROTATE_90_CLOCKWISE)\n",
    "    else:\n",
    "        crop_three = cv2.rotate(crop_imgs[player_three], cv2.ROTATE_90_COUNTERCLOCKWISE)\n",
    "    \n",
    "    suit_three,crop_value_three = crop_suite_value_MNIST(crop_three)\n",
    "\n",
    "    # Segment player 4\n",
    "    M_player_four = M_card_array[player_four,:]\n",
    "    diag_four = upper_right[player_four]\n",
    "\n",
    "    if sizes[player_four][0] > sizes[player_four][1]:\n",
    "        crop_four = cv2.rotate(crop_imgs[player_four], cv2.ROTATE_90_COUNTERCLOCKWISE)\n",
    "    elif sizes[player_four][0] <= sizes[player_four][1] and angles[player_four]<0:\n",
    "        crop_four = cv2.rotate(crop_imgs[player_four], cv2.ROTATE_180)\n",
    "    else:\n",
    "        crop_four = crop_imgs[player_four]\n",
    "\n",
    "    suit_four,crop_value_four = crop_suite_value_MNIST(crop_four)\n",
    "\n",
    "    # Combine the result\n",
    "    M_player = [M_player_one, M_player_two, M_player_three, M_player_four]\n",
    "    diag_card = [diag_one, diag_two, diag_three, diag_four]\n",
    "    suit_img = [suit_one,suit_two,suit_three,suit_four]\n",
    "    value_img = [crop_value_one,crop_value_two,crop_value_three,crop_value_four]\n",
    "\n",
    "    M_suit = []\n",
    "        \n",
    "    for diag, M in zip(diag_card, M_player):\n",
    "        M_suit_y = M[0]- (int)(diag[0]*6.8/10)\n",
    "        M_suit_x = M[1]- (int)(diag[1]*6.8/10)\n",
    "        M_suit.append([M_suit_y, M_suit_x])\n",
    "\n",
    "    # Find the dealer\n",
    "    centroid_1 = np.array([1750, 3500])\n",
    "    centroid_2 = np.array([2750, 2250])\n",
    "    centroid_3 = np.array([1750, 750])\n",
    "    centroid_4 = np.array([750, 2250])\n",
    "    centroids = [centroid_1,centroid_2,centroid_3,centroid_4]\n",
    "    dist = []\n",
    "    for centroid in centroids:\n",
    "        dist.append(np.sum(np.power((centroid-M_dealer),2)))\n",
    "\n",
    "    dealer_assign = [0]*4\n",
    "    dealer_assign[np.argmin(np.array(dist))] = 1\n",
    "\n",
    "    return contour_dealer, contours_card, M_player, M_dealer, M_suit, suit_img, value_img, dealer_assign"
   ]
  },
  {
   "cell_type": "markdown",
   "metadata": {},
   "source": [
    "## Suite feature extration"
   ]
  },
  {
   "cell_type": "markdown",
   "metadata": {},
   "source": [
    "In this feature extraction function, we are extracting 2 fourier descriptors from cropped suite image.\n",
    "The function completes two tasks.\n",
    "\n",
    "Firstly, it applies a linear classifier to classify the average color of suite into red and black.\n",
    "Secondly, depending on the result of color, it extracts 2 coefficients of fourier descriptors.\n",
    "\n",
    "For better understanding of how this works please check session\n",
    "[Understand the extracting of fourier descriptors](#section_test)"
   ]
  },
  {
   "cell_type": "code",
   "execution_count": 36,
   "metadata": {},
   "outputs": [],
   "source": [
    "def get_fourier_descriptors(im):\n",
    "    #preprocessing to remove blue&green contours\n",
    "    hsv_fg = skimage.color.rgb2hsv(im)\n",
    "    hsv_fg = skimage.img_as_ubyte(hsv_fg)\n",
    "    #find green contours (union of green and blue mask)\n",
    "    green_mask = cv2.inRange(hsv_fg, (45,30,30), (115, 255,255))\n",
    "    blue_mask = cv2.inRange(hsv_fg, (115,125,125), (150, 255,255)) \n",
    "    bg_mask = cv2.bitwise_or(green_mask,blue_mask)\n",
    "    open_mask = cv2.morphologyEx(bg_mask, cv2.MORPH_OPEN, cv2.getStructuringElement(cv2.MORPH_ELLIPSE,(5,5)))\n",
    "    open_mask_inv = cv2.bitwise_not(open_mask)\n",
    "    #keep foreground with inverse of mask\n",
    "    img_fg = cv2.bitwise_and(im,im,mask = open_mask_inv)\n",
    "    img_empty = np.ones_like(img_fg)*255\n",
    "    #set background to empty\n",
    "    img_bg = cv2.bitwise_and(img_empty,img_empty,mask = open_mask)\n",
    "    img_fgbg = cv2.add(img_fg,img_bg)\n",
    "    #threshold image\n",
    "    thresh_im = clean_img(img_fgbg)\n",
    "    # We use RETR_EXTERNAL mode to find external contour, CHAIN_APPROX_NONE to keep all points without simplification.\n",
    "    contour = cv2.findContours(thresh_im,cv2.RETR_EXTERNAL,cv2.CHAIN_APPROX_NONE)[0] \n",
    "    # Keep the biggest contour only (the contour of suite shape)\n",
    "    contour = sorted(contour, key=cv2.contourArea,reverse=True)\n",
    "    contour_array = contour[0][:, 0, :]\n",
    "    # color classification\n",
    "    # create a mask of biggest contour\n",
    "    color_mask = np.zeros_like(thresh_im)\n",
    "    cv2.drawContours(color_mask, contour, 0, (255,255,255), -1)\n",
    "    #calculate the average red channel value of shape\n",
    "    red = cv2.mean(im, mask=color_mask)[2]\n",
    "    # shape classification\n",
    "    # Create an array storing the contour points in complex numbers\n",
    "    contours_complex = np.empty(contour_array.shape[:-1], dtype=complex)\n",
    "    contours_complex.real = contour_array[:, 0]\n",
    "    contours_complex.imag = contour_array[:, 1]\n",
    "    # Compute discrete Fourier Transform and get the amplitude\n",
    "    fourier_result = np.fft.fft(contours_complex) \n",
    "    fourier_norm = np.absolute(fourier_result)\n",
    "    # We abandon the 0's Fourier descriptor because it is variant to positions. \n",
    "    # We use first descriptor for normalizing all descriptors by the first one\n",
    "    fourier_norm = fourier_norm/fourier_norm[1]\n",
    "    isred = 0\n",
    "    if (red > 100):\n",
    "        isred = 1\n",
    "        return fourier_norm[2], fourier_norm[3], isred\n",
    "    else:\n",
    "        return fourier_norm[6], fourier_norm[7], isred\n",
    "    #2,3 for red set classification, diamond vs heart. Low frequency.\n",
    "    #6,7 for black set classification, spade vs club. High frequency."
   ]
  },
  {
   "cell_type": "markdown",
   "metadata": {},
   "source": [
    "## Bayesian classifier"
   ]
  },
  {
   "cell_type": "markdown",
   "metadata": {},
   "source": [
    "Functions for calculating decision plane given the train set with two classes."
   ]
  },
  {
   "cell_type": "code",
   "execution_count": 37,
   "metadata": {},
   "outputs": [],
   "source": [
    "def discriminant_function(x, mu, cov, prob_class):\n",
    "    \"\"\"\n",
    "    Function that compute the discriminant function g(x) of one class\n",
    "    \"\"\"\n",
    "    inv_cov = np.linalg.inv(cov)\n",
    "    g = -1.0*np.matmul(np.matmul(x-mu,inv_cov),(x-mu)) +  np.log(prob_class) \\\n",
    "        + np.log(1.0/((2*math.pi)**(mu.shape[0]/2.0) * np.linalg.det(cov)**(1/2)))\n",
    "    return g\n",
    "def Bayes_Classification(all_data):\n",
    "    \"\"\"\n",
    "    Function that computes the analytical expression of the separation curve for the bayes classification under assumption\n",
    "    of normal distributions.\n",
    "    \n",
    "    Parameters\n",
    "    ----------\n",
    "    all_data : list of numpy.ndarray\n",
    "        All the data as a list where each element correspond to a 2d-array of the data of one class.\n",
    "    \n",
    "    Returns\n",
    "    -------\n",
    "    decision_boundary : list of sympy.core.add.Add\n",
    "        Symbolique expression for x1 and x2, that expresses the boundary between two classes\n",
    "    g: list of sympy.core.add.Add\n",
    "        Symbolique expression for x1 and x2, that expresses the discriminant function of one class\n",
    "    \"\"\"\n",
    "    # Compute mean, covariance and number of data of each class\n",
    "    mu, cov, prob_class = [], [], []\n",
    "    nb_classes = len(all_data)\n",
    "    for data in all_data:\n",
    "        mean = np.mean(data, axis=0)\n",
    "        mu.append(mean)\n",
    "        cov.append(1/(data.shape[0]-1)*np.matmul((data-mean).transpose(),(data-mean)))\n",
    "        prob_class.append(data.shape[0])\n",
    "    \n",
    "    # Convert the nb of data of each class into its probability by diving by the total amout of data\n",
    "    prob_class = np.array(prob_class)\n",
    "    prob_class = prob_class/np.sum(prob_class)\n",
    "    \n",
    "    # Compute discriminant function\n",
    "    g =  []\n",
    "    x1 = sym.Symbol('x1', real=True)\n",
    "    x2 = sym.Symbol('x2', real = True)\n",
    "    for i in range(nb_classes):\n",
    "        g_i = discriminant_function([x1,x2], mu[i], cov[i], prob_class[i])\n",
    "        g_i = sym.expand(g_i)\n",
    "        g.append(g_i)\n",
    "    \n",
    "    # Compute the decision hyperplane\n",
    "    decision_boundary = []\n",
    "    for i in range(nb_classes-1):\n",
    "        for j in range(i+1, nb_classes):\n",
    "            decision_boundary.append(g[i]-g[j])\n",
    "            \n",
    "    return decision_boundary, g"
   ]
  },
  {
   "cell_type": "markdown",
   "metadata": {},
   "source": [
    "## Read raw images from training set and ground truth"
   ]
  },
  {
   "cell_type": "markdown",
   "metadata": {},
   "source": [
    "Load train game photos and crop suite images to create train dataset with ground truth for Bayesian classifier."
   ]
  },
  {
   "cell_type": "code",
   "execution_count": 38,
   "metadata": {},
   "outputs": [],
   "source": [
    "#read data from train set\n",
    "game_img_raw = []\n",
    "game_img_suit_raw = []\n",
    "suit_ground_truth = [] \n",
    "for i in range(7):\n",
    "    #read ground truth\n",
    "    with open('./games/game'+str(i+1)+'/game'+str(i+1)+'.csv') as f:\n",
    "        reader = csv.reader(f)\n",
    "        next(reader)\n",
    "        for row in reader:\n",
    "            suit_ground_truth.append(row[1][1])\n",
    "            suit_ground_truth.append(row[2][1])\n",
    "            suit_ground_truth.append(row[3][1])\n",
    "            suit_ground_truth.append(row[4][1])\n",
    "            #read imgs\n",
    "    for j in range(13):\n",
    "        game_img_raw.append(cv2.imread('./games/game'+str(i+1)+'/'+str(j+1)+'.jpg'))"
   ]
  },
  {
   "cell_type": "code",
   "execution_count": 39,
   "metadata": {},
   "outputs": [],
   "source": [
    "#crop value, suit images and return dealer\n",
    "suit_img_training = []\n",
    "for i in range(len(game_img_raw)):\n",
    "    cards, dealer = find_green_boxes(game_img_raw[i])\n",
    "    _, _, _, _, _, suit_img, _, _ = segmentation(cards, dealer,game_img_raw[i])\n",
    "    suit_img_training.append(suit_img[0])\n",
    "    suit_img_training.append(suit_img[1])\n",
    "    suit_img_training.append(suit_img[2])\n",
    "    suit_img_training.append(suit_img[3])"
   ]
  },
  {
   "cell_type": "code",
   "execution_count": 40,
   "metadata": {},
   "outputs": [],
   "source": [
    "game_img_suit_fourier_1 = []\n",
    "game_img_suit_fourier_2 = []\n",
    "for im in suit_img_training:\n",
    "    game_img_suit_fourier_1.append(get_fourier_descriptors(im)[0])\n",
    "    game_img_suit_fourier_2.append(get_fourier_descriptors(im)[1])"
   ]
  },
  {
   "cell_type": "code",
   "execution_count": 41,
   "metadata": {},
   "outputs": [],
   "source": [
    "spade_training_set = []\n",
    "diamond_training_set = []\n",
    "club_training_set = []\n",
    "heart_training_set = []\n",
    "for i in range(len(suit_img_training)):\n",
    "    if (suit_ground_truth[i]=='S'):\n",
    "        spade_training_set.append([game_img_suit_fourier_1[i],game_img_suit_fourier_2[i]])\n",
    "    if (suit_ground_truth[i]=='D'):\n",
    "        diamond_training_set.append([game_img_suit_fourier_1[i],game_img_suit_fourier_2[i]])\n",
    "    if (suit_ground_truth[i]=='C'):\n",
    "        club_training_set.append([game_img_suit_fourier_1[i],game_img_suit_fourier_2[i]])\n",
    "    if (suit_ground_truth[i]=='H'):\n",
    "        heart_training_set.append([game_img_suit_fourier_1[i],game_img_suit_fourier_2[i]])"
   ]
  },
  {
   "cell_type": "markdown",
   "metadata": {},
   "source": [
    "## Understand the extracting of fourier descriptors\n",
    "<a id='section_test'></a>"
   ]
  },
  {
   "cell_type": "markdown",
   "metadata": {},
   "source": [
    "Load test image. This is suite image cropped from game 1, turn 1, player 3"
   ]
  },
  {
   "cell_type": "code",
   "execution_count": 44,
   "metadata": {},
   "outputs": [],
   "source": [
    "im = cv2.imread('./data/training/suite_raw_example.jpg')"
   ]
  },
  {
   "cell_type": "code",
   "execution_count": 45,
   "metadata": {},
   "outputs": [
    {
     "data": {
      "text/plain": [
       "<matplotlib.image.AxesImage at 0x1cc02f493d0>"
      ]
     },
     "execution_count": 45,
     "metadata": {},
     "output_type": "execute_result"
    },
    {
     "data": {
      "image/png": "[encoded data removed]",
      "text/plain": [
       "<Figure size 432x288 with 1 Axes>"
      ]
     },
     "metadata": {
      "needs_background": "light"
     },
     "output_type": "display_data"
    }
   ],
   "source": [
    "plt.imshow(im)"
   ]
  },
  {
   "cell_type": "markdown",
   "metadata": {},
   "source": [
    "For better results, we do preprocessing to remove blue & green contours due to imperfect cropping"
   ]
  },
  {
   "cell_type": "markdown",
   "metadata": {},
   "source": [
    "Use range in HSV space to find mask of unwanted green "
   ]
  },
  {
   "cell_type": "code",
   "execution_count": 47,
   "metadata": {},
   "outputs": [
    {
     "data": {
      "text/plain": [
       "<matplotlib.image.AxesImage at 0x1cc02ff3d30>"
      ]
     },
     "execution_count": 47,
     "metadata": {},
     "output_type": "execute_result"
    },
    {
     "data": {
      "image/png": "[encoded data removed]",
      "text/plain": [
       "<Figure size 432x288 with 1 Axes>"
      ]
     },
     "metadata": {
      "needs_background": "light"
     },
     "output_type": "display_data"
    }
   ],
   "source": [
    "hsv_fg = skimage.color.rgb2hsv(im)\n",
    "hsv_fg = skimage.img_as_ubyte(hsv_fg)\n",
    "green_mask = cv2.inRange(hsv_fg, (45,30,30), (115, 255,255))\n",
    "blue_mask = cv2.inRange(hsv_fg, (115,125,125), (150, 255,255)) \n",
    "bg_mask = cv2.bitwise_or(green_mask,blue_mask)\n",
    "plt.imshow(bg_mask,cmap='gray')"
   ]
  },
  {
   "cell_type": "markdown",
   "metadata": {},
   "source": [
    "Crop unwanted green off image"
   ]
  },
  {
   "cell_type": "code",
   "execution_count": 48,
   "metadata": {},
   "outputs": [
    {
     "data": {
      "text/plain": [
       "<matplotlib.image.AxesImage at 0x1cc03047df0>"
      ]
     },
     "execution_count": 48,
     "metadata": {},
     "output_type": "execute_result"
    },
    {
     "data": {
      "image/png": "[encoded data removed]",
      "text/plain": [
       "<Figure size 432x288 with 1 Axes>"
      ]
     },
     "metadata": {
      "needs_background": "light"
     },
     "output_type": "display_data"
    }
   ],
   "source": [
    "open_mask = cv2.morphologyEx(bg_mask, cv2.MORPH_OPEN, cv2.getStructuringElement(cv2.MORPH_ELLIPSE,(5,5)))\n",
    "open_mask_inv = cv2.bitwise_not(open_mask)\n",
    "#keep foreground with inverse of mask\n",
    "img_fg = cv2.bitwise_and(im,im,mask = open_mask_inv)\n",
    "img_empty = np.ones_like(img_fg)*255\n",
    "#set background to empty\n",
    "img_bg = cv2.bitwise_and(img_empty,img_empty,mask = open_mask)\n",
    "img_fgbg = cv2.add(img_fg,img_bg)\n",
    "plt.imshow(img_fgbg)"
   ]
  },
  {
   "cell_type": "markdown",
   "metadata": {},
   "source": [
    "Clean and threshold image"
   ]
  },
  {
   "cell_type": "code",
   "execution_count": 49,
   "metadata": {},
   "outputs": [
    {
     "data": {
      "text/plain": [
       "<matplotlib.image.AxesImage at 0x1cc030a0400>"
      ]
     },
     "execution_count": 49,
     "metadata": {},
     "output_type": "execute_result"
    },
    {
     "data": {
      "image/png": "[encoded data removed]",
      "text/plain": [
       "<Figure size 432x288 with 1 Axes>"
      ]
     },
     "metadata": {
      "needs_background": "light"
     },
     "output_type": "display_data"
    }
   ],
   "source": [
    "thresh_im = clean_img(img_fgbg)\n",
    "plt.imshow(thresh_im,cmap = 'gray')"
   ]
  },
  {
   "cell_type": "markdown",
   "metadata": {},
   "source": [
    "Find the biggest contour, which is the contour of suite shape. Use this contour area as a mask."
   ]
  },
  {
   "cell_type": "code",
   "execution_count": 50,
   "metadata": {},
   "outputs": [
    {
     "data": {
      "text/plain": [
       "<matplotlib.image.AxesImage at 0x1cc165ce4f0>"
      ]
     },
     "execution_count": 50,
     "metadata": {},
     "output_type": "execute_result"
    },
    {
     "data": {
      "image/png": "[encoded data removed]",
      "text/plain": [
       "<Figure size 432x288 with 1 Axes>"
      ]
     },
     "metadata": {
      "needs_background": "light"
     },
     "output_type": "display_data"
    }
   ],
   "source": [
    "contour = cv2.findContours(thresh_im,cv2.RETR_EXTERNAL,cv2.CHAIN_APPROX_NONE)[0] \n",
    "contour = sorted(contour, key=cv2.contourArea,reverse=True)\n",
    "contour_array = contour[0][:, 0, :]\n",
    "color_mask = np.zeros_like(thresh_im)\n",
    "cv2.drawContours(color_mask, contour, 0, (255,255,255), -1)\n",
    "plt.imshow(color_mask,cmap = 'gray')"
   ]
  },
  {
   "cell_type": "code",
   "execution_count": 51,
   "metadata": {},
   "outputs": [
    {
     "name": "stdout",
     "output_type": "stream",
     "text": [
      "average red value of suite image is 187.79\n"
     ]
    }
   ],
   "source": [
    "red = cv2.mean(im, mask=color_mask)[2]\n",
    "print(f'average red value of suite image is {255 - red:.2f}')"
   ]
  },
  {
   "cell_type": "markdown",
   "metadata": {},
   "source": [
    "We used cv2.CHAIN_APPROX_NONE in finding coontours. So we keep all contour points. Save contours as complex sigmal and do FFT and normalize. "
   ]
  },
  {
   "cell_type": "code",
   "execution_count": 52,
   "metadata": {},
   "outputs": [],
   "source": [
    "contours_complex = np.empty(contour_array.shape[:-1], dtype=complex)\n",
    "contours_complex.real = contour_array[:, 0]\n",
    "contours_complex.imag = contour_array[:, 1]\n",
    "# Compute discrete Fourier Transform and get the amplitude\n",
    "fourier_result = np.fft.fft(contours_complex) \n",
    "fourier_norm = np.absolute(fourier_result)\n",
    "fourier_norm = fourier_norm/fourier_norm[1]"
   ]
  },
  {
   "cell_type": "markdown",
   "metadata": {},
   "source": [
    "From train set with labels it can be seen that the classes can be well seperated."
   ]
  },
  {
   "cell_type": "code",
   "execution_count": 58,
   "metadata": {},
   "outputs": [
    {
     "data": {
      "text/plain": [
       "<matplotlib.legend.Legend at 0x1cc03303b80>"
      ]
     },
     "execution_count": 58,
     "metadata": {},
     "output_type": "execute_result"
    },
    {
     "data": {
      "image/png": "[encoded data removed]",
      "text/plain": [
       "<Figure size 432x288 with 1 Axes>"
      ]
     },
     "metadata": {
      "needs_background": "light"
     },
     "output_type": "display_data"
    }
   ],
   "source": [
    "xs = [x[0] for x in spade_training_set]\n",
    "ys = [x[1] for x in spade_training_set]\n",
    "plt.scatter(xs,ys,c='r')\n",
    "xs = [x[0] for x in club_training_set]\n",
    "ys = [x[1] for x in club_training_set]\n",
    "plt.scatter(xs,ys,c='b')\n",
    "plt.xlabel('Fourier coefficient 6')\n",
    "plt.ylabel('Fourier coefficient 7')\n",
    "plt.title('Club vs Spade in test set')\n",
    "plt.legend(['Club','Spade'])"
   ]
  },
  {
   "cell_type": "code",
   "execution_count": 59,
   "metadata": {},
   "outputs": [
    {
     "data": {
      "text/plain": [
       "<matplotlib.legend.Legend at 0x1cc04341f10>"
      ]
     },
     "execution_count": 59,
     "metadata": {},
     "output_type": "execute_result"
    },
    {
     "data": {
      "image/png": "[encoded data removed]",
      "text/plain": [
       "<Figure size 432x288 with 1 Axes>"
      ]
     },
     "metadata": {
      "needs_background": "light"
     },
     "output_type": "display_data"
    }
   ],
   "source": [
    "xs = [x[0] for x in diamond_training_set]\n",
    "ys = [x[1] for x in diamond_training_set]\n",
    "plt.scatter(xs,ys,c='r')\n",
    "xs = [x[0] for x in heart_training_set]\n",
    "ys = [x[1] for x in heart_training_set]\n",
    "plt.scatter(xs,ys,c='b')\n",
    "plt.xlabel('Fourier coefficient 2')\n",
    "plt.ylabel('Fourier coefficient 3')\n",
    "plt.title('Heart vs Diamond in test set')\n",
    "plt.legend(['Heart','Diamond'])"
   ]
  },
  {
   "cell_type": "markdown",
   "metadata": {},
   "source": [
    "## Final decision curve of Bayesian classifier "
   ]
  },
  {
   "cell_type": "markdown",
   "metadata": {},
   "source": [
    "We calculate and show decision plane as quadrics. The decision plane will then be used in main notebook."
   ]
  },
  {
   "cell_type": "code",
   "execution_count": 22,
   "metadata": {},
   "outputs": [
    {
     "name": "stdout",
     "output_type": "stream",
     "text": [
      "Decision curve club-spade: \n",
      " g(x) = 2859.89042987933*x1**2 - 1233.09652151866*x1*x2 + 50.9525608771483*x1 - 3840.76833708728*x2**2 + 648.062279494321*x2 - 38.7202501408227 \n",
      "\n",
      "Decision curve heart-diamond: \n",
      " g(x) = -8631.68822729593*x1**2 + 334.043833410848*x1*x2 + 28.8862082239766*x1 - 401.333957105818*x2**2 + 743.09053520083*x2 - 182.895039049464 \n",
      "\n"
     ]
    }
   ],
   "source": [
    "# Putting our data in a list such that it is compatible with the function input\n",
    "black_data = [np.asarray(spade_training_set),np.asarray(club_training_set)]\n",
    "red_data = [np.asarray(diamond_training_set),np.asarray(heart_training_set)]\n",
    "# We can now obtain the expression by calling the previous defined function\n",
    "hyperplane1, g = Bayes_Classification(black_data)\n",
    "hyperplane2, g = Bayes_Classification(red_data)\n",
    "for _,hyp in enumerate(hyperplane1):\n",
    "    print(\"Decision curve club-spade: \\n\", \"g(x) =\",hyp, \"\\n\")\n",
    "for _,hyp in enumerate(hyperplane2):\n",
    "    print(\"Decision curve heart-diamond: \\n\", \"g(x) =\",hyp, \"\\n\")"
   ]
  }
 ],
 "metadata": {
  "kernelspec": {
   "display_name": "Python 3",
   "language": "python",
   "name": "python3"
  },
  "language_info": {
   "codemirror_mode": {
    "name": "ipython",
    "version": 3
   },
   "file_extension": ".py",
   "mimetype": "text/x-python",
   "name": "python",
   "nbconvert_exporter": "python",
   "pygments_lexer": "ipython3",
   "version": "3.8.8"
  }
 },
 "nbformat": 4,
 "nbformat_minor": 4
}
